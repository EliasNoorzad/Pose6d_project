{
  "nbformat": 4,
  "nbformat_minor": 0,
  "metadata": {
    "colab": {
      "provenance": [],
      "authorship_tag": "ABX9TyM3yRInQe30mIlDL1zs2/AE",
      "include_colab_link": true
    },
    "kernelspec": {
      "name": "python3",
      "display_name": "Python 3"
    },
    "language_info": {
      "name": "python"
    }
  },
  "cells": [
    {
      "cell_type": "markdown",
      "metadata": {
        "id": "view-in-github",
        "colab_type": "text"
      },
      "source": [
        "<a href=\"https://colab.research.google.com/github/EliasNoorzad/Pose6d_project/blob/main/dataset/yolo_conversion_steps.ipynb\" target=\"_parent\"><img src=\"https://colab.research.google.com/assets/colab-badge.svg\" alt=\"Open In Colab\"/></a>"
      ]
    },
    {
      "cell_type": "markdown",
      "source": [
        "The script walks through every image ID listed in the train.txt and test.txt files, finds that frame’s bounding-box info in gt.yml, converts the box from pixel values to YOLO’s normalised format ( xc , yc , w , h ) and saves the four numbers in a matching .txt file inside a new labels folder. When it finishes, every image across all objects now has a YOLO-style label file ready for training."
      ],
      "metadata": {
        "id": "5cfLUJt4jcll"
      }
    },
    {
      "cell_type": "code",
      "execution_count": null,
      "metadata": {
        "id": "5gh4PoAUjLQh"
      },
      "outputs": [],
      "source": [
        "OBJ_DIR   = \"/content/drive/MyDrive/Linemod/Linemod_preprocessed/data/15\" # obj_01 folder\n",
        "TRAIN_TXT = OBJ_DIR + \"/train.txt\"                                     # training IDs\n",
        "VAL_TXT   = OBJ_DIR + \"/test.txt\"                                      # validation IDs\n",
        "\n",
        "import os, yaml, pathlib\n",
        "\n",
        "# 1. make the label folder once\n",
        "label_dir = pathlib.Path(OBJ_DIR, \"labels\")\n",
        "label_dir.mkdir(exist_ok=True)\n",
        "\n",
        "# 2. load gt.yml one time\n",
        "gt_path = pathlib.Path(OBJ_DIR, \"gt.yml\")\n",
        "with open(gt_path, \"r\") as f:\n",
        "    gt_all = yaml.safe_load(f)          # dict, keys are '0','1',...\n",
        "\n",
        "# 3. helper that writes one .txt file\n",
        "def write_label(id_str):\n",
        "    pose = gt_all[int(id_str)][0]       # first (only) object\n",
        "    x, y, w, h = pose[\"obj_bb\"]         # four integers from gt.yml\n",
        "\n",
        "    img_w, img_h = 640, 480             # line-MOD RGB size\n",
        "    x_c   = (x + w / 2.0) / img_w\n",
        "    y_c   = (y + h / 2.0) / img_h\n",
        "    w_n   = w / img_w\n",
        "    h_n   = h / img_h\n",
        "\n",
        "    txt_path = pathlib.Path(label_dir, f\"{id_str}.txt\")\n",
        "    with open(txt_path, \"w\") as f_txt:\n",
        "        f_txt.write(f\"12 {x_c:.6f} {y_c:.6f} {w_n:.6f} {h_n:.6f}\\n\")\n",
        "\n",
        "# 4. loop over every ID in train.txt and test.txt\n",
        "for txt_file in (TRAIN_TXT, VAL_TXT):\n",
        "    with open(txt_file, \"r\") as f:\n",
        "        for line in f:\n",
        "            img_id = line.strip()       # '0004'\n",
        "            if img_id:                  # skip empty lines\n",
        "                write_label(img_id)\n",
        "\n",
        "print(\"✓  YOLO label files are in:\", label_dir)\n"
      ]
    },
    {
      "cell_type": "markdown",
      "source": [
        "The code just turns the bare numeric IDs in train.txt and test.txt into full relative file-paths that YOLO can actually load. It reads each line, wraps it with the folder prefix “rgb/” and the file extension “.png” (so 0004 becomes rgb/0004.png), and then saves the resulting lists to train_images.txt and val_images.txt. Those two new text files now hold the exact image paths that the training script will point at later."
      ],
      "metadata": {
        "id": "1AxlZOEOjl5d"
      }
    },
    {
      "cell_type": "code",
      "source": [
        "OBJ_DIR   = \"/content/drive/MyDrive/Linemod/Linemod_preprocessed/data/15\" # obj_01 folder\n",
        "TRAIN_TXT = OBJ_DIR + \"/train.txt\"                                     # training IDs\n",
        "VAL_TXT   = OBJ_DIR + \"/test.txt\"\n",
        "\n",
        "# Open the input file (change 'input.txt' to your filename)\n",
        "with open(TRAIN_TXT, \"r\") as infile:\n",
        "    lines = infile.readlines()\n",
        "\n",
        "# Process each line\n",
        "modified_lines = [f\"rgb/{line.strip()}.png\\n\" for line in lines]\n",
        "\n",
        "# Write to a new output file\n",
        "with open(OBJ_DIR + \"/train_images.txt\", \"w\") as outfile:\n",
        "    outfile.writelines(modified_lines)\n"
      ],
      "metadata": {
        "id": "QxapAvl8jhzE"
      },
      "execution_count": null,
      "outputs": []
    },
    {
      "cell_type": "code",
      "source": [
        "# Open the input file (change 'input.txt' to your filename)\n",
        "with open(VAL_TXT, \"r\") as infile:\n",
        "    lines = infile.readlines()\n",
        "\n",
        "# Process each line\n",
        "modified_lines = [f\"rgb/{line.strip()}.png\\n\" for line in lines]\n",
        "\n",
        "# Write to a new output file\n",
        "with open(OBJ_DIR + \"/val_images.txt\", \"w\") as outfile:\n",
        "    outfile.writelines(modified_lines)"
      ],
      "metadata": {
        "id": "ePjWA2Y1jp45"
      },
      "execution_count": null,
      "outputs": []
    },
    {
      "cell_type": "markdown",
      "source": [
        "**Turning data suitable for YOLO**\n",
        "\n",
        "Using the two text files that list our training and validation frame IDs, we simply copied each RGB image together with its matching YOLO label into the directory layout that Ultralytics expects: train/images & train/labels for learning, and val/images & val/labels for evaluation. After this one-step transfer, every frame mentioned in the lists now lives in the right sub-folder alongside its annotation, so the multi-object dataset is organised and ready for YOLO-v8 training."
      ],
      "metadata": {
        "id": "C0YCyJhXjtEx"
      }
    },
    {
      "cell_type": "code",
      "source": [
        "import shutil\n",
        "from pathlib import Path\n",
        "\n",
        "BASE = Path(\"/content/drive/MyDrive/Linemod/Linemod_preprocessed\")\n",
        "SRC = BASE / \"data/15\"\n",
        "DST = BASE / \"yolo_data/15\"\n",
        "\n",
        "def copy_images_and_labels(list_file, split):\n",
        "    with open(SRC / list_file, \"r\") as f:\n",
        "        filenames = [line.strip().split(\"/\")[-1] for line in f]  # get '0933.png'\n",
        "\n",
        "    for name in filenames:\n",
        "        img_src = SRC / \"rgb\" / name\n",
        "        img_dst = DST / split / \"images\" / name\n",
        "        shutil.copy(img_src, img_dst)\n",
        "\n",
        "        label_name = name.replace(\".png\", \".txt\")\n",
        "        label_src = SRC / \"labels\" / label_name\n",
        "        label_dst = DST / split / \"labels\" / label_name\n",
        "        shutil.copy(label_src, label_dst)\n",
        "\n",
        "# Copy train\n",
        "copy_images_and_labels(\"train_images.txt\", \"train\")\n",
        "\n",
        "# Copy val\n",
        "copy_images_and_labels(\"val_images.txt\", \"val\")\n"
      ],
      "metadata": {
        "id": "tcelkqfpj0YM"
      },
      "execution_count": null,
      "outputs": []
    },
    {
      "cell_type": "markdown",
      "source": [
        "We ran a short script that adds the object’s ID to the start of every image- and label-filename. It walks through each object’s train/images, train/labels, val/images, and val/labels folders and renames files like 0008.png to 15_0008.png (and the matching text file to 15_0008.txt). Nothing inside the files changes—only their names—so each label still matches its picture. After doing this for every object, all files have unique names, so they can sit in one big folder without clashing."
      ],
      "metadata": {
        "id": "Pg0F6YSXj4L4"
      }
    },
    {
      "cell_type": "code",
      "source": [
        "import os\n",
        "\n",
        "YOLO_ROOT = \"/content/drive/MyDrive/Linemod/Linemod_preprocessed/yolo_data/15\"\n",
        "obj_id = \"15\"\n",
        "\n",
        "# loop over train/val and images/labels\n",
        "for split in (\"train\", \"val\"):\n",
        "    for kind in (\"images\", \"labels\"):\n",
        "        folder = os.path.join(YOLO_ROOT, split, kind)\n",
        "        if not os.path.isdir(folder):\n",
        "            continue\n",
        "\n",
        "        for filename in os.listdir(folder):\n",
        "            old_path = os.path.join(folder, filename)\n",
        "            new_name = f\"{obj_id}_{filename}\"\n",
        "            new_path = os.path.join(folder, new_name)\n",
        "            os.rename(old_path, new_path)\n",
        "\n",
        "print(\"All files renamed with prefixes!\")\n"
      ],
      "metadata": {
        "id": "lfkhS6Bfj-kN"
      },
      "execution_count": null,
      "outputs": []
    },
    {
      "cell_type": "markdown",
      "source": [
        "This helper script merges each object’s YOLO-formatted folders into one master dataset. After you set OBJ_ID (e.g., “15”), it loops over the object’s train and val splits and their images / labels sub-folders, making matching directories inside a central yolo/train/… and yolo/val/… structure. Every image and its label are then copied—not moved—into these master folders, so the original per-object data stay intact while the combined dataset grows with uniquely prefixed files ready for multi-class training."
      ],
      "metadata": {
        "id": "hbilhTAIkHAf"
      }
    },
    {
      "cell_type": "code",
      "source": [
        "import os\n",
        "import shutil\n",
        "\n",
        "\n",
        "OBJ_ID    = \"15\"    # e.g. \"01\", \"02\", … change and rerun for each object\n",
        "SRC_ROOT  = \"/content/drive/MyDrive/Linemod/Linemod_preprocessed/yolo_data/\"     # where your per-object folders live\n",
        "DEST_ROOT = \"/content/drive/MyDrive/Linemod/Linemod_preprocessed/yolo\"           # your central yolo/ folder\n",
        "\n",
        "for split in (\"train\", \"val\"):\n",
        "    for kind in (\"images\", \"labels\"):\n",
        "        src_dir = os.path.join(SRC_ROOT, OBJ_ID, split, kind)\n",
        "        dst_dir = os.path.join(DEST_ROOT, split, kind)\n",
        "        os.makedirs(dst_dir, exist_ok=True)\n",
        "        for fn in os.listdir(src_dir):\n",
        "            shutil.copy(\n",
        "                os.path.join(src_dir, fn),\n",
        "                os.path.join(dst_dir, fn)\n",
        "            )\n",
        "\n",
        "print(f\"✅ Object {OBJ_ID} merged into `{DEST_ROOT}/{split}/`\")\n"
      ],
      "metadata": {
        "id": "RewWgLmJkAy4"
      },
      "execution_count": null,
      "outputs": []
    }
  ]
}